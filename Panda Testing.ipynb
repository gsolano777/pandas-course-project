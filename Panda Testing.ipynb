{
  "cells": [
    {
      "attachments": {},
      "cell_type": "markdown",
      "metadata": {
        "id": "OMZIlbS3xvjf"
      },
      "source": [
        "## Dataset: [Superstore Dataset](https://www.kaggle.com/datasets/vivek468/superstore-dataset-final?resource=download)\n",
        "\n",
        "### Context\n",
        "\n",
        "With growing demands and cut-throat competitions in the market, a Superstore Giant is seeking your knowledge in understanding what works best for them. They would like to understand which products, regions, categories and customer segments they should target or avoid.\n",
        "\n",
        "### Attributes\n",
        "\n",
        "These will be the attributes to analyze:\n",
        "\n",
        "*   Order Date\n",
        "*   City\n",
        "*   Profit\n",
        "\n",
        "### Objective\n",
        "\n",
        "Analyze the profict tendency per city and time of year.\n",
        "\n",
        "### Visualization\n",
        "\n",
        "A chart showing the profit tendency during the year of the top10 more profitable cities.\n",
        "\n",
        "\n",
        "\n",
        "\n"
      ]
    },
    {
      "attachments": {},
      "cell_type": "markdown",
      "metadata": {
        "id": "yeZkwrcxUOhX"
      },
      "source": [
        "# Data Ingestion"
      ]
    },
    {
      "cell_type": "code",
      "execution_count": 3,
      "metadata": {
        "id": "dKy4rl3LVWGO"
      },
      "outputs": [],
      "source": [
        "import pandas as pd"
      ]
    },
    {
      "cell_type": "code",
      "execution_count": 4,
      "metadata": {
        "colab": {
          "base_uri": "https://localhost:8080/"
        },
        "id": "ESg3qer-VYw8",
        "outputId": "71ca3db1-84a1-4d0f-c524-db7224f044b1"
      },
      "outputs": [
        {
          "data": {
            "text/plain": [
              "Index(['Row ID', 'Order ID', 'Order Date', 'Ship Date', 'Ship Mode',\n",
              "       'Customer ID', 'Customer Name', 'Segment', 'Country', 'City', 'State',\n",
              "       'Postal Code', 'Region', 'Product ID', 'Category', 'Sub-Category',\n",
              "       'Product Name', 'Sales', 'Quantity', 'Discount', 'Profit'],\n",
              "      dtype='object')"
            ]
          },
          "execution_count": 4,
          "metadata": {},
          "output_type": "execute_result"
        }
      ],
      "source": [
        "df = pd.read_csv(\"Superstore.csv\", encoding = \"ISO-8859-1\")\n",
        "df.columns"
      ]
    },
    {
      "cell_type": "code",
      "execution_count": null,
      "metadata": {
        "colab": {
          "base_uri": "https://localhost:8080/"
        },
        "id": "g1HGXrIbVkid",
        "outputId": "6c20c7c5-58fb-48fc-b399-b04d783eb62c"
      },
      "outputs": [
        {
          "data": {
            "text/plain": [
              "<bound method NDFrame.head of       Row ID        Order ID  Order Date   Ship Date       Ship Mode  \\\n",
              "0          1  CA-2016-152156   11/8/2016  11/11/2016    Second Class   \n",
              "1          2  CA-2016-152156   11/8/2016  11/11/2016    Second Class   \n",
              "2          3  CA-2016-138688   6/12/2016   6/16/2016    Second Class   \n",
              "3          4  US-2015-108966  10/11/2015  10/18/2015  Standard Class   \n",
              "4          5  US-2015-108966  10/11/2015  10/18/2015  Standard Class   \n",
              "...      ...             ...         ...         ...             ...   \n",
              "9989    9990  CA-2014-110422   1/21/2014   1/23/2014    Second Class   \n",
              "9990    9991  CA-2017-121258   2/26/2017    3/3/2017  Standard Class   \n",
              "9991    9992  CA-2017-121258   2/26/2017    3/3/2017  Standard Class   \n",
              "9992    9993  CA-2017-121258   2/26/2017    3/3/2017  Standard Class   \n",
              "9993    9994  CA-2017-119914    5/4/2017    5/9/2017    Second Class   \n",
              "\n",
              "     Customer ID     Customer Name    Segment        Country             City  \\\n",
              "0       CG-12520       Claire Gute   Consumer  United States        Henderson   \n",
              "1       CG-12520       Claire Gute   Consumer  United States        Henderson   \n",
              "2       DV-13045   Darrin Van Huff  Corporate  United States      Los Angeles   \n",
              "3       SO-20335    Sean O'Donnell   Consumer  United States  Fort Lauderdale   \n",
              "4       SO-20335    Sean O'Donnell   Consumer  United States  Fort Lauderdale   \n",
              "...          ...               ...        ...            ...              ...   \n",
              "9989    TB-21400  Tom Boeckenhauer   Consumer  United States            Miami   \n",
              "9990    DB-13060       Dave Brooks   Consumer  United States       Costa Mesa   \n",
              "9991    DB-13060       Dave Brooks   Consumer  United States       Costa Mesa   \n",
              "9992    DB-13060       Dave Brooks   Consumer  United States       Costa Mesa   \n",
              "9993    CC-12220      Chris Cortes   Consumer  United States      Westminster   \n",
              "\n",
              "      ... Postal Code  Region       Product ID         Category Sub-Category  \\\n",
              "0     ...       42420   South  FUR-BO-10001798        Furniture    Bookcases   \n",
              "1     ...       42420   South  FUR-CH-10000454        Furniture       Chairs   \n",
              "2     ...       90036    West  OFF-LA-10000240  Office Supplies       Labels   \n",
              "3     ...       33311   South  FUR-TA-10000577        Furniture       Tables   \n",
              "4     ...       33311   South  OFF-ST-10000760  Office Supplies      Storage   \n",
              "...   ...         ...     ...              ...              ...          ...   \n",
              "9989  ...       33180   South  FUR-FU-10001889        Furniture  Furnishings   \n",
              "9990  ...       92627    West  FUR-FU-10000747        Furniture  Furnishings   \n",
              "9991  ...       92627    West  TEC-PH-10003645       Technology       Phones   \n",
              "9992  ...       92627    West  OFF-PA-10004041  Office Supplies        Paper   \n",
              "9993  ...       92683    West  OFF-AP-10002684  Office Supplies   Appliances   \n",
              "\n",
              "                                           Product Name     Sales  Quantity  \\\n",
              "0                     Bush Somerset Collection Bookcase  261.9600         2   \n",
              "1     Hon Deluxe Fabric Upholstered Stacking Chairs,...  731.9400         3   \n",
              "2     Self-Adhesive Address Labels for Typewriters b...   14.6200         2   \n",
              "3         Bretford CR4500 Series Slim Rectangular Table  957.5775         5   \n",
              "4                        Eldon Fold 'N Roll Cart System   22.3680         2   \n",
              "...                                                 ...       ...       ...   \n",
              "9989                             Ultra Door Pull Handle   25.2480         3   \n",
              "9990  Tenex B1-RE Series Chair Mats for Low Pile Car...   91.9600         2   \n",
              "9991                              Aastra 57i VoIP phone  258.5760         2   \n",
              "9992  It's Hot Message Books with Stickers, 2 3/4\" x 5\"   29.6000         4   \n",
              "9993  Acco 7-Outlet Masterpiece Power Center, Wihtou...  243.1600         2   \n",
              "\n",
              "      Discount    Profit  \n",
              "0         0.00   41.9136  \n",
              "1         0.00  219.5820  \n",
              "2         0.00    6.8714  \n",
              "3         0.45 -383.0310  \n",
              "4         0.20    2.5164  \n",
              "...        ...       ...  \n",
              "9989      0.20    4.1028  \n",
              "9990      0.00   15.6332  \n",
              "9991      0.20   19.3932  \n",
              "9992      0.00   13.3200  \n",
              "9993      0.00   72.9480  \n",
              "\n",
              "[9994 rows x 21 columns]>"
            ]
          },
          "execution_count": 3,
          "metadata": {},
          "output_type": "execute_result"
        }
      ],
      "source": [
        "df.head"
      ]
    },
    {
      "cell_type": "code",
      "execution_count": null,
      "metadata": {
        "colab": {
          "base_uri": "https://localhost:8080/"
        },
        "id": "iyz8EWfR1d5Y",
        "outputId": "5b2330af-6816-474a-ccdc-195d06ae1594"
      },
      "outputs": [
        {
          "name": "stdout",
          "output_type": "stream",
          "text": [
            "<class 'pandas.core.frame.DataFrame'>\n",
            "RangeIndex: 9994 entries, 0 to 9993\n",
            "Data columns (total 5 columns):\n",
            " #   Column      Non-Null Count  Dtype  \n",
            "---  ------      --------------  -----  \n",
            " 0   Order Date  9994 non-null   object \n",
            " 1   Country     9994 non-null   object \n",
            " 2   City        9994 non-null   object \n",
            " 3   State       9994 non-null   object \n",
            " 4   Profit      9994 non-null   float64\n",
            "dtypes: float64(1), object(4)\n",
            "memory usage: 390.5+ KB\n"
          ]
        }
      ],
      "source": [
        "df.info()"
      ]
    },
    {
      "cell_type": "code",
      "execution_count": 5,
      "metadata": {
        "colab": {
          "base_uri": "https://localhost:8080/"
        },
        "id": "U8_9BdIXZkp2",
        "outputId": "f6278b9b-dc7c-4751-df5b-326194e8db42"
      },
      "outputs": [
        {
          "data": {
            "text/plain": [
              "Index(['Order Date', 'Country', 'City', 'State', 'Profit'], dtype='object')"
            ]
          },
          "execution_count": 5,
          "metadata": {},
          "output_type": "execute_result"
        }
      ],
      "source": [
        "df = df.drop(['Row ID','Order ID', 'Ship Date', 'Ship Mode', 'Customer ID',\n",
        "       'Customer Name', 'Segment', 'Postal Code',\n",
        "       'Region', 'Product ID', 'Category', 'Sub-Category', 'Product Name',\n",
        "       'Sales', 'Quantity', 'Discount'], axis=1)\n",
        "df.columns"
      ]
    },
    {
      "attachments": {},
      "cell_type": "markdown",
      "metadata": {
        "id": "Fjf0fF5QjbJf"
      },
      "source": [
        "## Grouping per city and obtaining the top10 more profitable \n",
        "\n"
      ]
    },
    {
      "cell_type": "code",
      "execution_count": 4,
      "metadata": {
        "colab": {
          "base_uri": "https://localhost:8080/",
          "height": 737
        },
        "id": "dHRX8TYEhmZ8",
        "outputId": "7f1867fc-2fbf-4198-e9e3-d47bcbc03c99"
      },
      "outputs": [
        {
          "data": {
            "text/plain": [
              "<Axes: xlabel='Country,State,City'>"
            ]
          },
          "execution_count": 4,
          "metadata": {},
          "output_type": "execute_result"
        },
        {
          "data": {
            "image/png": "[encoded data removed]",
            "text/plain": [
              "<Figure size 640x480 with 1 Axes>"
            ]
          },
          "metadata": {},
          "output_type": "display_data"
        }
      ],
      "source": [
        "df.groupby([\"Country\", \"State\", \"City\"])[\"Profit\"].sum().sort_values(ascending=False).nlargest(10).plot(kind=\"bar\")"
      ]
    },
    {
      "attachments": {},
      "cell_type": "markdown",
      "metadata": {
        "id": "trnUXTRuklTt"
      },
      "source": [
        "From previous query we can see New York it the most profitable city, almos duplicating the second one California."
      ]
    },
    {
      "attachments": {},
      "cell_type": "markdown",
      "metadata": {
        "id": "VaYqS_nplYqI"
      },
      "source": [
        "# Checking for null values"
      ]
    },
    {
      "cell_type": "code",
      "execution_count": 5,
      "metadata": {
        "colab": {
          "base_uri": "https://localhost:8080/"
        },
        "id": "RQcH9KkcMNq7",
        "outputId": "32545427-5d11-4681-85f8-70905bb8c886"
      },
      "outputs": [
        {
          "name": "stdout",
          "output_type": "stream",
          "text": [
            "Total nulls in Order Date: False    9994\n",
            "Name: Order Date, dtype: int64\n",
            "Total nulls in Country: False    9994\n",
            "Name: Country, dtype: int64\n",
            "Total nulls in City: False    9994\n",
            "Name: City, dtype: int64\n",
            "Total nulls in State: False    9994\n",
            "Name: State, dtype: int64\n",
            "Total nulls in Profit: False    9994\n",
            "Name: Profit, dtype: int64\n"
          ]
        }
      ],
      "source": [
        "nullsMask = df.isna()\n",
        "print(f\"Total nulls in Order Date: {nullsMask['Order Date'].value_counts()}\")\n",
        "print(f\"Total nulls in Country: {nullsMask.Country.value_counts()}\") \n",
        "print(f\"Total nulls in City: {nullsMask.City.value_counts()}\") \n",
        "print(f\"Total nulls in State: {nullsMask.State.value_counts()}\") \n",
        "print(f\"Total nulls in Profit: {nullsMask.Profit.value_counts()}\") \n"
      ]
    },
    {
      "attachments": {},
      "cell_type": "markdown",
      "metadata": {
        "id": "M4QC99dFOK7q"
      },
      "source": [
        "Data is clean. There are no nulls."
      ]
    },
    {
      "attachments": {},
      "cell_type": "markdown",
      "metadata": {
        "id": "-7WDjeS1QoHK"
      },
      "source": [
        "# Check For Duplicates"
      ]
    },
    {
      "cell_type": "code",
      "execution_count": 6,
      "metadata": {
        "colab": {
          "base_uri": "https://localhost:8080/"
        },
        "id": "Gt4FpMUiQsQX",
        "outputId": "c3ea679f-f8f1-430e-aa4a-5978c1b65be1"
      },
      "outputs": [
        {
          "name": "stdout",
          "output_type": "stream",
          "text": [
            "     Order Date        Country        City     State   Profit\n",
            "2579  1/26/2014  United States  Alexandria  Virginia   0.0000\n",
            "2582  1/26/2014  United States  Alexandria  Virginia   0.0000\n",
            "3405  4/23/2014  United States    Columbus      Ohio -12.0588\n",
            "3406  4/23/2014  United States    Columbus      Ohio -12.0588\n"
          ]
        }
      ],
      "source": [
        "duplicateRowsDF = df[df.duplicated(subset=[\"Country\", \"State\", \"City\", \"Order Date\", \"Profit\"], keep=False)]\n",
        "print(duplicateRowsDF)"
      ]
    },
    {
      "attachments": {},
      "cell_type": "markdown",
      "metadata": {
        "id": "quHD7mBrV74c"
      },
      "source": [
        "There are a couple of duplicates. These could be valid duplicated purchaese. Just to be sure we will remove them."
      ]
    },
    {
      "cell_type": "code",
      "execution_count": 7,
      "metadata": {
        "colab": {
          "base_uri": "https://localhost:8080/"
        },
        "id": "nfky8CxMWX_m",
        "outputId": "a3e957ba-0594-4e07-bb14-2674c80e7689"
      },
      "outputs": [
        {
          "name": "stdout",
          "output_type": "stream",
          "text": [
            "Empty DataFrame\n",
            "Columns: [Order Date, Country, City, State, Profit]\n",
            "Index: []\n"
          ]
        }
      ],
      "source": [
        "df = df.drop_duplicates(subset=[\"Country\", \"State\", \"City\", \"Order Date\", \"Profit\"], keep=\"first\")\n",
        "duplicateRowsDF = df[df.duplicated(subset=[\"Country\", \"State\", \"City\", \"Order Date\", \"Profit\"], keep=False)]\n",
        "print(duplicateRowsDF)"
      ]
    },
    {
      "cell_type": "code",
      "execution_count": null,
      "metadata": {
        "colab": {
          "base_uri": "https://localhost:8080/"
        },
        "id": "gUwvyztpXj78",
        "outputId": "df75e72f-dcf5-405d-b044-5769084b0759"
      },
      "outputs": [
        {
          "name": "stdout",
          "output_type": "stream",
          "text": [
            "<class 'pandas.core.frame.DataFrame'>\n",
            "Int64Index: 9992 entries, 0 to 9993\n",
            "Data columns (total 5 columns):\n",
            " #   Column      Non-Null Count  Dtype  \n",
            "---  ------      --------------  -----  \n",
            " 0   Order Date  9992 non-null   object \n",
            " 1   Country     9992 non-null   object \n",
            " 2   City        9992 non-null   object \n",
            " 3   State       9992 non-null   object \n",
            " 4   Profit      9992 non-null   float64\n",
            "dtypes: float64(1), object(4)\n",
            "memory usage: 468.4+ KB\n"
          ]
        }
      ],
      "source": [
        "df.info()"
      ]
    },
    {
      "attachments": {},
      "cell_type": "markdown",
      "metadata": {
        "id": "gTb1HpcJvyFs"
      },
      "source": [
        "# Converting Order Date to datetime variable"
      ]
    },
    {
      "cell_type": "code",
      "execution_count": 8,
      "metadata": {
        "colab": {
          "base_uri": "https://localhost:8080/"
        },
        "id": "lhyEou4bXu1a",
        "outputId": "29709246-202e-42f5-9caf-98a7e777c83c"
      },
      "outputs": [
        {
          "name": "stdout",
          "output_type": "stream",
          "text": [
            "<class 'pandas.core.frame.DataFrame'>\n",
            "Int64Index: 9992 entries, 0 to 9993\n",
            "Data columns (total 5 columns):\n",
            " #   Column      Non-Null Count  Dtype         \n",
            "---  ------      --------------  -----         \n",
            " 0   Order Date  9992 non-null   datetime64[ns]\n",
            " 1   Country     9992 non-null   object        \n",
            " 2   City        9992 non-null   object        \n",
            " 3   State       9992 non-null   object        \n",
            " 4   Profit      9992 non-null   float64       \n",
            "dtypes: datetime64[ns](1), float64(1), object(3)\n",
            "memory usage: 468.4+ KB\n"
          ]
        }
      ],
      "source": [
        "df[\"Order Date\"] = pd.to_datetime(df[\"Order Date\"])\n",
        "df.info()"
      ]
    },
    {
      "cell_type": "code",
      "execution_count": 8,
      "metadata": {
        "colab": {
          "base_uri": "https://localhost:8080/"
        },
        "id": "MIwHE0oav_Pf",
        "outputId": "103cefd0-2304-4754-c9ed-ba30bd8b2126"
      },
      "outputs": [
        {
          "data": {
            "text/plain": [
              "0        8\n",
              "1        8\n",
              "2       12\n",
              "3       11\n",
              "4       11\n",
              "        ..\n",
              "9989    21\n",
              "9990    26\n",
              "9991    26\n",
              "9992    26\n",
              "9993     4\n",
              "Name: Order Date, Length: 9992, dtype: int64"
            ]
          },
          "execution_count": 8,
          "metadata": {},
          "output_type": "execute_result"
        }
      ],
      "source": [
        "df[\"Order Date\"].dt.year\n",
        "df[\"Order Date\"].dt.month\n",
        "df[\"Order Date\"].dt.day"
      ]
    },
    {
      "attachments": {},
      "cell_type": "markdown",
      "metadata": {
        "id": "Ax6DbVL8AHmz"
      },
      "source": [
        "# Filtering by year 2017 and grouping per month to view most profitable months."
      ]
    },
    {
      "cell_type": "code",
      "execution_count": 9,
      "metadata": {
        "colab": {
          "base_uri": "https://localhost:8080/",
          "height": 470
        },
        "id": "wmYP-vBLAItd",
        "outputId": "19da742e-7a0c-4bf0-de02-65e83da73f6d"
      },
      "outputs": [
        {
          "data": {
            "text/plain": [
              "<Axes: title={'center': 'Ciudades con meses de más ganancias del 2017'}, ylabel='Country,State,City,Order Date'>"
            ]
          },
          "execution_count": 9,
          "metadata": {},
          "output_type": "execute_result"
        },
        {
          "data": {
            "image/png": "[encoded data removed]",
            "text/plain": [
              "<Figure size 640x480 with 1 Axes>"
            ]
          },
          "metadata": {},
          "output_type": "display_data"
        }
      ],
      "source": [
        "df_year_2017 = df[df['Order Date'].dt.strftime('%Y') == '2017']\n",
        "df_year_2017 = df_year_2017.groupby([\"Country\", \"State\", \"City\", df['Order Date'].dt.month])[\"Profit\"].sum().sort_values(ascending=False).nlargest(10)\n",
        "df_year_2017.plot(kind=\"barh\", colormap=\"Accent\", title = \"Ciudades con meses de más ganancias del 2017\")\n"
      ]
    },
    {
      "attachments": {},
      "cell_type": "markdown",
      "metadata": {
        "id": "CFOenaFVj1h3"
      },
      "source": [
        "# Installing Google Maps"
      ]
    },
    {
      "cell_type": "code",
      "execution_count": 10,
      "metadata": {
        "colab": {
          "base_uri": "https://localhost:8080/"
        },
        "id": "MhDtmQYCUL9o",
        "outputId": "2cd1e1fb-c9d9-4e26-aa72-51778a831efd"
      },
      "outputs": [
        {
          "name": "stdout",
          "output_type": "stream",
          "text": [
            "Looking in indexes: https://pypi.org/simple, https://us-python.pkg.dev/colab-wheels/public/simple/\n",
            "Collecting googlemaps\n",
            "  Downloading googlemaps-4.10.0.tar.gz (33 kB)\n",
            "  Preparing metadata (setup.py) ... \u001b[?25l\u001b[?25hdone\n",
            "Requirement already satisfied: requests<3.0,>=2.20.0 in /usr/local/lib/python3.10/dist-packages (from googlemaps) (2.27.1)\n",
            "Requirement already satisfied: urllib3<1.27,>=1.21.1 in /usr/local/lib/python3.10/dist-packages (from requests<3.0,>=2.20.0->googlemaps) (1.26.15)\n",
            "Requirement already satisfied: certifi>=2017.4.17 in /usr/local/lib/python3.10/dist-packages (from requests<3.0,>=2.20.0->googlemaps) (2022.12.7)\n",
            "Requirement already satisfied: charset-normalizer~=2.0.0 in /usr/local/lib/python3.10/dist-packages (from requests<3.0,>=2.20.0->googlemaps) (2.0.12)\n",
            "Requirement already satisfied: idna<4,>=2.5 in /usr/local/lib/python3.10/dist-packages (from requests<3.0,>=2.20.0->googlemaps) (3.4)\n",
            "Building wheels for collected packages: googlemaps\n",
            "  Building wheel for googlemaps (setup.py) ... \u001b[?25l\u001b[?25hdone\n",
            "  Created wheel for googlemaps: filename=googlemaps-4.10.0-py3-none-any.whl size=40718 sha256=0d029a82ecf3861e02141b7ade2a5fa7ec41bbe77378001fbb77590422e0de04\n",
            "  Stored in directory: /root/.cache/pip/wheels/17/f8/79/999d5d37118fd35d7219ef57933eb9d09886c4c4503a800f84\n",
            "Successfully built googlemaps\n",
            "Installing collected packages: googlemaps\n",
            "Successfully installed googlemaps-4.10.0\n"
          ]
        }
      ],
      "source": [
        "pip install -U googlemaps\n"
      ]
    },
    {
      "cell_type": "code",
      "execution_count": null,
      "metadata": {
        "id": "uFIJtv0hj9B0"
      },
      "outputs": [],
      "source": [
        "# Creating Google Maps object using key created with Google Cloud"
      ]
    },
    {
      "cell_type": "code",
      "execution_count": 11,
      "metadata": {
        "id": "4rK6zGsn6zL4"
      },
      "outputs": [],
      "source": [
        "import googlemaps\n",
        "gmaps = googlemaps.Client(key='XXX') "
      ]
    },
    {
      "attachments": {},
      "cell_type": "markdown",
      "metadata": {
        "id": "-FmNqc8PkTOo"
      },
      "source": [
        "# Function that thes the city and state and generates coordinates using Google's API. It uses a cache to avoid calling repeated cities."
      ]
    },
    {
      "cell_type": "code",
      "execution_count": 20,
      "metadata": {
        "colab": {
          "base_uri": "https://localhost:8080/",
          "height": 424
        },
        "id": "Yd9V-fewc7a_",
        "outputId": "74369844-2617-4296-ffe3-f6a027d5a593"
      },
      "outputs": [
        {
          "data": {
            "text/html": [
              "\n",
              "  <div id=\"df-4733db86-9cf2-4745-90e6-2b0b77b0adbe\">\n",
              "    <div class=\"colab-df-container\">\n",
              "      <div>\n",
              "<style scoped>\n",
              "    .dataframe tbody tr th:only-of-type {\n",
              "        vertical-align: middle;\n",
              "    }\n",
              "\n",
              "    .dataframe tbody tr th {\n",
              "        vertical-align: top;\n",
              "    }\n",
              "\n",
              "    .dataframe thead th {\n",
              "        text-align: right;\n",
              "    }\n",
              "</style>\n",
              "<table border=\"1\" class=\"dataframe\">\n",
              "  <thead>\n",
              "    <tr style=\"text-align: right;\">\n",
              "      <th></th>\n",
              "      <th>City</th>\n",
              "      <th>Country</th>\n",
              "      <th>Order Date</th>\n",
              "      <th>Profit</th>\n",
              "      <th>State</th>\n",
              "      <th>lat</th>\n",
              "      <th>lng</th>\n",
              "    </tr>\n",
              "  </thead>\n",
              "  <tbody>\n",
              "    <tr>\n",
              "      <th>0</th>\n",
              "      <td>Henderson</td>\n",
              "      <td>United States</td>\n",
              "      <td>2016-11-08</td>\n",
              "      <td>41.9136</td>\n",
              "      <td>Kentucky</td>\n",
              "      <td>37.836154</td>\n",
              "      <td>-87.590013</td>\n",
              "    </tr>\n",
              "    <tr>\n",
              "      <th>1</th>\n",
              "      <td>NaN</td>\n",
              "      <td>NaN</td>\n",
              "      <td>NaT</td>\n",
              "      <td>NaN</td>\n",
              "      <td>NaN</td>\n",
              "      <td>37.836154</td>\n",
              "      <td>-87.590013</td>\n",
              "    </tr>\n",
              "    <tr>\n",
              "      <th>2</th>\n",
              "      <td>Los Angeles</td>\n",
              "      <td>United States</td>\n",
              "      <td>2016-06-12</td>\n",
              "      <td>6.8714</td>\n",
              "      <td>California</td>\n",
              "      <td>34.052234</td>\n",
              "      <td>-118.243685</td>\n",
              "    </tr>\n",
              "    <tr>\n",
              "      <th>3</th>\n",
              "      <td>Fort Lauderdale</td>\n",
              "      <td>United States</td>\n",
              "      <td>2015-10-11</td>\n",
              "      <td>-383.0310</td>\n",
              "      <td>Florida</td>\n",
              "      <td>26.122439</td>\n",
              "      <td>-80.137317</td>\n",
              "    </tr>\n",
              "    <tr>\n",
              "      <th>4</th>\n",
              "      <td>NaN</td>\n",
              "      <td>NaN</td>\n",
              "      <td>NaT</td>\n",
              "      <td>NaN</td>\n",
              "      <td>NaN</td>\n",
              "      <td>26.122439</td>\n",
              "      <td>-80.137317</td>\n",
              "    </tr>\n",
              "    <tr>\n",
              "      <th>...</th>\n",
              "      <td>...</td>\n",
              "      <td>...</td>\n",
              "      <td>...</td>\n",
              "      <td>...</td>\n",
              "      <td>...</td>\n",
              "      <td>...</td>\n",
              "      <td>...</td>\n",
              "    </tr>\n",
              "    <tr>\n",
              "      <th>9989</th>\n",
              "      <td>NaN</td>\n",
              "      <td>NaN</td>\n",
              "      <td>NaT</td>\n",
              "      <td>NaN</td>\n",
              "      <td>NaN</td>\n",
              "      <td>25.761680</td>\n",
              "      <td>-80.191790</td>\n",
              "    </tr>\n",
              "    <tr>\n",
              "      <th>9990</th>\n",
              "      <td>NaN</td>\n",
              "      <td>NaN</td>\n",
              "      <td>NaT</td>\n",
              "      <td>NaN</td>\n",
              "      <td>NaN</td>\n",
              "      <td>33.663844</td>\n",
              "      <td>-117.904743</td>\n",
              "    </tr>\n",
              "    <tr>\n",
              "      <th>9991</th>\n",
              "      <td>NaN</td>\n",
              "      <td>NaN</td>\n",
              "      <td>NaT</td>\n",
              "      <td>NaN</td>\n",
              "      <td>NaN</td>\n",
              "      <td>33.663844</td>\n",
              "      <td>-117.904743</td>\n",
              "    </tr>\n",
              "    <tr>\n",
              "      <th>9992</th>\n",
              "      <td>NaN</td>\n",
              "      <td>NaN</td>\n",
              "      <td>NaT</td>\n",
              "      <td>NaN</td>\n",
              "      <td>NaN</td>\n",
              "      <td>33.663844</td>\n",
              "      <td>-117.904743</td>\n",
              "    </tr>\n",
              "    <tr>\n",
              "      <th>9993</th>\n",
              "      <td>NaN</td>\n",
              "      <td>NaN</td>\n",
              "      <td>NaT</td>\n",
              "      <td>NaN</td>\n",
              "      <td>NaN</td>\n",
              "      <td>33.759176</td>\n",
              "      <td>-117.989706</td>\n",
              "    </tr>\n",
              "  </tbody>\n",
              "</table>\n",
              "<p>9992 rows × 7 columns</p>\n",
              "</div>\n",
              "      <button class=\"colab-df-convert\" onclick=\"convertToInteractive('df-4733db86-9cf2-4745-90e6-2b0b77b0adbe')\"\n",
              "              title=\"Convert this dataframe to an interactive table.\"\n",
              "              style=\"display:none;\">\n",
              "        \n",
              "  <svg xmlns=\"http://www.w3.org/2000/svg\" height=\"24px\"viewBox=\"0 0 24 24\"\n",
              "       width=\"24px\">\n",
              "    <path d=\"M0 0h24v24H0V0z\" fill=\"none\"/>\n",
              "    <path d=\"M18.56 5.44l.94 2.06.94-2.06 2.06-.94-2.06-.94-.94-2.06-.94 2.06-2.06.94zm-11 1L8.5 8.5l.94-2.06 2.06-.94-2.06-.94L8.5 2.5l-.94 2.06-2.06.94zm10 10l.94 2.06.94-2.06 2.06-.94-2.06-.94-.94-2.06-.94 2.06-2.06.94z\"/><path d=\"M17.41 7.96l-1.37-1.37c-.4-.4-.92-.59-1.43-.59-.52 0-1.04.2-1.43.59L10.3 9.45l-7.72 7.72c-.78.78-.78 2.05 0 2.83L4 21.41c.39.39.9.59 1.41.59.51 0 1.02-.2 1.41-.59l7.78-7.78 2.81-2.81c.8-.78.8-2.07 0-2.86zM5.41 20L4 18.59l7.72-7.72 1.47 1.35L5.41 20z\"/>\n",
              "  </svg>\n",
              "      </button>\n",
              "      \n",
              "  <style>\n",
              "    .colab-df-container {\n",
              "      display:flex;\n",
              "      flex-wrap:wrap;\n",
              "      gap: 12px;\n",
              "    }\n",
              "\n",
              "    .colab-df-convert {\n",
              "      background-color: #E8F0FE;\n",
              "      border: none;\n",
              "      border-radius: 50%;\n",
              "      cursor: pointer;\n",
              "      display: none;\n",
              "      fill: #1967D2;\n",
              "      height: 32px;\n",
              "      padding: 0 0 0 0;\n",
              "      width: 32px;\n",
              "    }\n",
              "\n",
              "    .colab-df-convert:hover {\n",
              "      background-color: #E2EBFA;\n",
              "      box-shadow: 0px 1px 2px rgba(60, 64, 67, 0.3), 0px 1px 3px 1px rgba(60, 64, 67, 0.15);\n",
              "      fill: #174EA6;\n",
              "    }\n",
              "\n",
              "    [theme=dark] .colab-df-convert {\n",
              "      background-color: #3B4455;\n",
              "      fill: #D2E3FC;\n",
              "    }\n",
              "\n",
              "    [theme=dark] .colab-df-convert:hover {\n",
              "      background-color: #434B5C;\n",
              "      box-shadow: 0px 1px 3px 1px rgba(0, 0, 0, 0.15);\n",
              "      filter: drop-shadow(0px 1px 2px rgba(0, 0, 0, 0.3));\n",
              "      fill: #FFFFFF;\n",
              "    }\n",
              "  </style>\n",
              "\n",
              "      <script>\n",
              "        const buttonEl =\n",
              "          document.querySelector('#df-4733db86-9cf2-4745-90e6-2b0b77b0adbe button.colab-df-convert');\n",
              "        buttonEl.style.display =\n",
              "          google.colab.kernel.accessAllowed ? 'block' : 'none';\n",
              "\n",
              "        async function convertToInteractive(key) {\n",
              "          const element = document.querySelector('#df-4733db86-9cf2-4745-90e6-2b0b77b0adbe');\n",
              "          const dataTable =\n",
              "            await google.colab.kernel.invokeFunction('convertToInteractive',\n",
              "                                                     [key], {});\n",
              "          if (!dataTable) return;\n",
              "\n",
              "          const docLinkHtml = 'Like what you see? Visit the ' +\n",
              "            '<a target=\"_blank\" href=https://colab.research.google.com/notebooks/data_table.ipynb>data table notebook</a>'\n",
              "            + ' to learn more about interactive tables.';\n",
              "          element.innerHTML = '';\n",
              "          dataTable['output_type'] = 'display_data';\n",
              "          await google.colab.output.renderOutput(dataTable, element);\n",
              "          const docLink = document.createElement('div');\n",
              "          docLink.innerHTML = docLinkHtml;\n",
              "          element.appendChild(docLink);\n",
              "        }\n",
              "      </script>\n",
              "    </div>\n",
              "  </div>\n",
              "  "
            ],
            "text/plain": [
              "                 City        Country Order Date    Profit       State  \\\n",
              "0           Henderson  United States 2016-11-08   41.9136    Kentucky   \n",
              "1                 NaN            NaN        NaT       NaN         NaN   \n",
              "2         Los Angeles  United States 2016-06-12    6.8714  California   \n",
              "3     Fort Lauderdale  United States 2015-10-11 -383.0310     Florida   \n",
              "4                 NaN            NaN        NaT       NaN         NaN   \n",
              "...               ...            ...        ...       ...         ...   \n",
              "9989              NaN            NaN        NaT       NaN         NaN   \n",
              "9990              NaN            NaN        NaT       NaN         NaN   \n",
              "9991              NaN            NaN        NaT       NaN         NaN   \n",
              "9992              NaN            NaN        NaT       NaN         NaN   \n",
              "9993              NaN            NaN        NaT       NaN         NaN   \n",
              "\n",
              "            lat         lng  \n",
              "0     37.836154  -87.590013  \n",
              "1     37.836154  -87.590013  \n",
              "2     34.052234 -118.243685  \n",
              "3     26.122439  -80.137317  \n",
              "4     26.122439  -80.137317  \n",
              "...         ...         ...  \n",
              "9989  25.761680  -80.191790  \n",
              "9990  33.663844 -117.904743  \n",
              "9991  33.663844 -117.904743  \n",
              "9992  33.663844 -117.904743  \n",
              "9993  33.759176 -117.989706  \n",
              "\n",
              "[9992 rows x 7 columns]"
            ]
          },
          "execution_count": 20,
          "metadata": {},
          "output_type": "execute_result"
        }
      ],
      "source": [
        "city_coordinates_cache = {}\n",
        "\n",
        "def get_coordinates(r):\n",
        "  key = r['State']+r['City']\n",
        "  if key in city_coordinates_cache:\n",
        "    return city_coordinates_cache[key]\n",
        "  geocode_result = gmaps.geocode(f\"{r['City']}, {r['State']}\")\n",
        "  geo_location = geocode_result[0]['geometry']['location']\n",
        "  city_coordinates_cache[key] = geo_location\n",
        "  r['lat'] = geo_location['lat']\n",
        "  r['lng'] = geo_location['lng']\n",
        "  return r\n",
        "\n",
        "df_with_coordinates = df.apply(get_coordinates, axis=1)\n",
        "df_with_coordinates"
      ]
    },
    {
      "attachments": {},
      "cell_type": "markdown",
      "metadata": {
        "id": "MWd5cfJRkiX0"
      },
      "source": [
        "# Installing Folium"
      ]
    },
    {
      "cell_type": "code",
      "execution_count": 22,
      "metadata": {
        "colab": {
          "base_uri": "https://localhost:8080/"
        },
        "id": "lghAg3u_e3Ve",
        "outputId": "faeb6f41-2235-47a6-be15-eef7fad59d08"
      },
      "outputs": [
        {
          "name": "stdout",
          "output_type": "stream",
          "text": [
            "Looking in indexes: https://pypi.org/simple, https://us-python.pkg.dev/colab-wheels/public/simple/\n",
            "Requirement already satisfied: folium in /usr/local/lib/python3.10/dist-packages (0.14.0)\n",
            "Requirement already satisfied: jinja2>=2.9 in /usr/local/lib/python3.10/dist-packages (from folium) (3.1.2)\n",
            "Requirement already satisfied: numpy in /usr/local/lib/python3.10/dist-packages (from folium) (1.22.4)\n",
            "Requirement already satisfied: branca>=0.6.0 in /usr/local/lib/python3.10/dist-packages (from folium) (0.6.0)\n",
            "Requirement already satisfied: requests in /usr/local/lib/python3.10/dist-packages (from folium) (2.27.1)\n",
            "Requirement already satisfied: MarkupSafe>=2.0 in /usr/local/lib/python3.10/dist-packages (from jinja2>=2.9->folium) (2.1.2)\n",
            "Requirement already satisfied: idna<4,>=2.5 in /usr/local/lib/python3.10/dist-packages (from requests->folium) (3.4)\n",
            "Requirement already satisfied: certifi>=2017.4.17 in /usr/local/lib/python3.10/dist-packages (from requests->folium) (2022.12.7)\n",
            "Requirement already satisfied: charset-normalizer~=2.0.0 in /usr/local/lib/python3.10/dist-packages (from requests->folium) (2.0.12)\n",
            "Requirement already satisfied: urllib3<1.27,>=1.21.1 in /usr/local/lib/python3.10/dist-packages (from requests->folium) (1.26.15)\n"
          ]
        }
      ],
      "source": [
        "pip install folium"
      ]
    },
    {
      "cell_type": "code",
      "execution_count": 23,
      "metadata": {
        "id": "j1LL0MQUe7dM"
      },
      "outputs": [],
      "source": [
        "import folium"
      ]
    },
    {
      "attachments": {},
      "cell_type": "markdown",
      "metadata": {
        "id": "s21CxMbbkqFj"
      },
      "source": [
        "# Create a grouping for the top10 most profitable cities of 2017"
      ]
    },
    {
      "cell_type": "code",
      "execution_count": 40,
      "metadata": {
        "colab": {
          "base_uri": "https://localhost:8080/",
          "height": 363
        },
        "id": "zzrRxR6kfjhx",
        "outputId": "11580f5b-88d8-4d62-addc-b46c376202c3"
      },
      "outputs": [
        {
          "data": {
            "text/html": [
              "\n",
              "  <div id=\"df-3e0795a4-5ecf-4744-94e7-d3fb1a5d5ecc\">\n",
              "    <div class=\"colab-df-container\">\n",
              "      <div>\n",
              "<style scoped>\n",
              "    .dataframe tbody tr th:only-of-type {\n",
              "        vertical-align: middle;\n",
              "    }\n",
              "\n",
              "    .dataframe tbody tr th {\n",
              "        vertical-align: top;\n",
              "    }\n",
              "\n",
              "    .dataframe thead th {\n",
              "        text-align: right;\n",
              "    }\n",
              "</style>\n",
              "<table border=\"1\" class=\"dataframe\">\n",
              "  <thead>\n",
              "    <tr style=\"text-align: right;\">\n",
              "      <th></th>\n",
              "      <th>Country</th>\n",
              "      <th>State</th>\n",
              "      <th>City</th>\n",
              "      <th>Order Date</th>\n",
              "      <th>lat</th>\n",
              "      <th>lng</th>\n",
              "      <th>Profit</th>\n",
              "    </tr>\n",
              "  </thead>\n",
              "  <tbody>\n",
              "    <tr>\n",
              "      <th>0</th>\n",
              "      <td>United States</td>\n",
              "      <td>Montana</td>\n",
              "      <td>Great Falls</td>\n",
              "      <td>1</td>\n",
              "      <td>47.505285</td>\n",
              "      <td>-111.300771</td>\n",
              "      <td>1379.9770</td>\n",
              "    </tr>\n",
              "    <tr>\n",
              "      <th>1</th>\n",
              "      <td>United States</td>\n",
              "      <td>Oklahoma</td>\n",
              "      <td>Muskogee</td>\n",
              "      <td>10</td>\n",
              "      <td>35.747877</td>\n",
              "      <td>-95.369691</td>\n",
              "      <td>374.3792</td>\n",
              "    </tr>\n",
              "    <tr>\n",
              "      <th>2</th>\n",
              "      <td>United States</td>\n",
              "      <td>Minnesota</td>\n",
              "      <td>Maple Grove</td>\n",
              "      <td>7</td>\n",
              "      <td>45.072464</td>\n",
              "      <td>-93.455788</td>\n",
              "      <td>331.1910</td>\n",
              "    </tr>\n",
              "    <tr>\n",
              "      <th>3</th>\n",
              "      <td>United States</td>\n",
              "      <td>California</td>\n",
              "      <td>Anaheim</td>\n",
              "      <td>6</td>\n",
              "      <td>33.836593</td>\n",
              "      <td>-117.914301</td>\n",
              "      <td>310.9872</td>\n",
              "    </tr>\n",
              "    <tr>\n",
              "      <th>4</th>\n",
              "      <td>United States</td>\n",
              "      <td>Mississippi</td>\n",
              "      <td>Jackson</td>\n",
              "      <td>8</td>\n",
              "      <td>32.298757</td>\n",
              "      <td>-90.184810</td>\n",
              "      <td>225.2640</td>\n",
              "    </tr>\n",
              "    <tr>\n",
              "      <th>5</th>\n",
              "      <td>United States</td>\n",
              "      <td>Missouri</td>\n",
              "      <td>Independence</td>\n",
              "      <td>12</td>\n",
              "      <td>39.091116</td>\n",
              "      <td>-94.415507</td>\n",
              "      <td>218.2518</td>\n",
              "    </tr>\n",
              "    <tr>\n",
              "      <th>6</th>\n",
              "      <td>United States</td>\n",
              "      <td>Connecticut</td>\n",
              "      <td>Milford</td>\n",
              "      <td>6</td>\n",
              "      <td>41.230698</td>\n",
              "      <td>-73.064036</td>\n",
              "      <td>185.2578</td>\n",
              "    </tr>\n",
              "    <tr>\n",
              "      <th>7</th>\n",
              "      <td>United States</td>\n",
              "      <td>Georgia</td>\n",
              "      <td>Columbus</td>\n",
              "      <td>3</td>\n",
              "      <td>32.460976</td>\n",
              "      <td>-84.987709</td>\n",
              "      <td>168.4384</td>\n",
              "    </tr>\n",
              "    <tr>\n",
              "      <th>8</th>\n",
              "      <td>United States</td>\n",
              "      <td>Indiana</td>\n",
              "      <td>Lawrence</td>\n",
              "      <td>8</td>\n",
              "      <td>39.838652</td>\n",
              "      <td>-86.025261</td>\n",
              "      <td>166.0698</td>\n",
              "    </tr>\n",
              "    <tr>\n",
              "      <th>9</th>\n",
              "      <td>United States</td>\n",
              "      <td>California</td>\n",
              "      <td>Lake Forest</td>\n",
              "      <td>8</td>\n",
              "      <td>33.646944</td>\n",
              "      <td>-117.686102</td>\n",
              "      <td>152.0232</td>\n",
              "    </tr>\n",
              "  </tbody>\n",
              "</table>\n",
              "</div>\n",
              "      <button class=\"colab-df-convert\" onclick=\"convertToInteractive('df-3e0795a4-5ecf-4744-94e7-d3fb1a5d5ecc')\"\n",
              "              title=\"Convert this dataframe to an interactive table.\"\n",
              "              style=\"display:none;\">\n",
              "        \n",
              "  <svg xmlns=\"http://www.w3.org/2000/svg\" height=\"24px\"viewBox=\"0 0 24 24\"\n",
              "       width=\"24px\">\n",
              "    <path d=\"M0 0h24v24H0V0z\" fill=\"none\"/>\n",
              "    <path d=\"M18.56 5.44l.94 2.06.94-2.06 2.06-.94-2.06-.94-.94-2.06-.94 2.06-2.06.94zm-11 1L8.5 8.5l.94-2.06 2.06-.94-2.06-.94L8.5 2.5l-.94 2.06-2.06.94zm10 10l.94 2.06.94-2.06 2.06-.94-2.06-.94-.94-2.06-.94 2.06-2.06.94z\"/><path d=\"M17.41 7.96l-1.37-1.37c-.4-.4-.92-.59-1.43-.59-.52 0-1.04.2-1.43.59L10.3 9.45l-7.72 7.72c-.78.78-.78 2.05 0 2.83L4 21.41c.39.39.9.59 1.41.59.51 0 1.02-.2 1.41-.59l7.78-7.78 2.81-2.81c.8-.78.8-2.07 0-2.86zM5.41 20L4 18.59l7.72-7.72 1.47 1.35L5.41 20z\"/>\n",
              "  </svg>\n",
              "      </button>\n",
              "      \n",
              "  <style>\n",
              "    .colab-df-container {\n",
              "      display:flex;\n",
              "      flex-wrap:wrap;\n",
              "      gap: 12px;\n",
              "    }\n",
              "\n",
              "    .colab-df-convert {\n",
              "      background-color: #E8F0FE;\n",
              "      border: none;\n",
              "      border-radius: 50%;\n",
              "      cursor: pointer;\n",
              "      display: none;\n",
              "      fill: #1967D2;\n",
              "      height: 32px;\n",
              "      padding: 0 0 0 0;\n",
              "      width: 32px;\n",
              "    }\n",
              "\n",
              "    .colab-df-convert:hover {\n",
              "      background-color: #E2EBFA;\n",
              "      box-shadow: 0px 1px 2px rgba(60, 64, 67, 0.3), 0px 1px 3px 1px rgba(60, 64, 67, 0.15);\n",
              "      fill: #174EA6;\n",
              "    }\n",
              "\n",
              "    [theme=dark] .colab-df-convert {\n",
              "      background-color: #3B4455;\n",
              "      fill: #D2E3FC;\n",
              "    }\n",
              "\n",
              "    [theme=dark] .colab-df-convert:hover {\n",
              "      background-color: #434B5C;\n",
              "      box-shadow: 0px 1px 3px 1px rgba(0, 0, 0, 0.15);\n",
              "      filter: drop-shadow(0px 1px 2px rgba(0, 0, 0, 0.3));\n",
              "      fill: #FFFFFF;\n",
              "    }\n",
              "  </style>\n",
              "\n",
              "      <script>\n",
              "        const buttonEl =\n",
              "          document.querySelector('#df-3e0795a4-5ecf-4744-94e7-d3fb1a5d5ecc button.colab-df-convert');\n",
              "        buttonEl.style.display =\n",
              "          google.colab.kernel.accessAllowed ? 'block' : 'none';\n",
              "\n",
              "        async function convertToInteractive(key) {\n",
              "          const element = document.querySelector('#df-3e0795a4-5ecf-4744-94e7-d3fb1a5d5ecc');\n",
              "          const dataTable =\n",
              "            await google.colab.kernel.invokeFunction('convertToInteractive',\n",
              "                                                     [key], {});\n",
              "          if (!dataTable) return;\n",
              "\n",
              "          const docLinkHtml = 'Like what you see? Visit the ' +\n",
              "            '<a target=\"_blank\" href=https://colab.research.google.com/notebooks/data_table.ipynb>data table notebook</a>'\n",
              "            + ' to learn more about interactive tables.';\n",
              "          element.innerHTML = '';\n",
              "          dataTable['output_type'] = 'display_data';\n",
              "          await google.colab.output.renderOutput(dataTable, element);\n",
              "          const docLink = document.createElement('div');\n",
              "          docLink.innerHTML = docLinkHtml;\n",
              "          element.appendChild(docLink);\n",
              "        }\n",
              "      </script>\n",
              "    </div>\n",
              "  </div>\n",
              "  "
            ],
            "text/plain": [
              "         Country        State          City  Order Date        lat  \\\n",
              "0  United States      Montana   Great Falls           1  47.505285   \n",
              "1  United States     Oklahoma      Muskogee          10  35.747877   \n",
              "2  United States    Minnesota   Maple Grove           7  45.072464   \n",
              "3  United States   California       Anaheim           6  33.836593   \n",
              "4  United States  Mississippi       Jackson           8  32.298757   \n",
              "5  United States     Missouri  Independence          12  39.091116   \n",
              "6  United States  Connecticut       Milford           6  41.230698   \n",
              "7  United States      Georgia      Columbus           3  32.460976   \n",
              "8  United States      Indiana      Lawrence           8  39.838652   \n",
              "9  United States   California   Lake Forest           8  33.646944   \n",
              "\n",
              "          lng     Profit  \n",
              "0 -111.300771  1379.9770  \n",
              "1  -95.369691   374.3792  \n",
              "2  -93.455788   331.1910  \n",
              "3 -117.914301   310.9872  \n",
              "4  -90.184810   225.2640  \n",
              "5  -94.415507   218.2518  \n",
              "6  -73.064036   185.2578  \n",
              "7  -84.987709   168.4384  \n",
              "8  -86.025261   166.0698  \n",
              "9 -117.686102   152.0232  "
            ]
          },
          "execution_count": 40,
          "metadata": {},
          "output_type": "execute_result"
        }
      ],
      "source": [
        "df_year_2017 = df_with_coordinates[df_with_coordinates['Order Date'].dt.strftime('%Y') == '2017']\n",
        "df_year_2017 = df_year_2017.groupby([\"Country\", \"State\", \"City\", df_year_2017['Order Date'].dt.month, 'lat', 'lng'])[\"Profit\"].sum().sort_values(ascending=False).nlargest(10).reset_index()\n",
        "df_year_2017"
      ]
    },
    {
      "attachments": {},
      "cell_type": "markdown",
      "metadata": {
        "id": "dgowZ8rqkyn_"
      },
      "source": [
        "# Creating the map with the cities"
      ]
    },
    {
      "cell_type": "code",
      "execution_count": 44,
      "metadata": {
        "colab": {
          "base_uri": "https://localhost:8080/",
          "height": 915
        },
        "id": "WdWTCwp-gQ2w",
        "outputId": "ead14c16-5b01-41dc-ffac-1e95ad4795cc"
      },
      "outputs": [
        {
          "data": {
            "text/html": [
              "<div style=\"width:100%;\"><div style=\"position:relative;width:100%;height:0;padding-bottom:60%;\"><span style=\"color:#565656\">Make this Notebook Trusted to load map: File -> Trust Notebook</span><iframe srcdoc=\"&lt;!DOCTYPE html&gt;\n",
              "&lt;html&gt;\n",
              "&lt;head&gt;\n",
              "    \n",
              "    &lt;meta http-equiv=&quot;content-type&quot; content=&quot;text/html; charset=UTF-8&quot; /&gt;\n",
              "    \n",
              "        &lt;script&gt;\n",
              "            L_NO_TOUCH = false;\n",
              "            L_DISABLE_3D = false;\n",
              "        &lt;/script&gt;\n",
              "    \n",
              "    &lt;style&gt;html, body {width: 100%;height: 100%;margin: 0;padding: 0;}&lt;/style&gt;\n",
              "    &lt;style&gt;#map {position:absolute;top:0;bottom:0;right:0;left:0;}&lt;/style&gt;\n",
              "    &lt;script src=&quot;https://cdn.jsdelivr.net/npm/leaflet@1.9.3/dist/leaflet.js&quot;&gt;&lt;/script&gt;\n",
              "    &lt;script src=&quot;https://code.jquery.com/jquery-1.12.4.min.js&quot;&gt;&lt;/script&gt;\n",
              "    &lt;script src=&quot;https://cdn.jsdelivr.net/npm/bootstrap@5.2.2/dist/js/bootstrap.bundle.min.js&quot;&gt;&lt;/script&gt;\n",
              "    &lt;script src=&quot;https://cdnjs.cloudflare.com/ajax/libs/Leaflet.awesome-markers/2.0.2/leaflet.awesome-markers.js&quot;&gt;&lt;/script&gt;\n",
              "    &lt;link rel=&quot;stylesheet&quot; href=&quot;https://cdn.jsdelivr.net/npm/leaflet@1.9.3/dist/leaflet.css&quot;/&gt;\n",
              "    &lt;link rel=&quot;stylesheet&quot; href=&quot;https://cdn.jsdelivr.net/npm/bootstrap@5.2.2/dist/css/bootstrap.min.css&quot;/&gt;\n",
              "    &lt;link rel=&quot;stylesheet&quot; href=&quot;https://netdna.bootstrapcdn.com/bootstrap/3.0.0/css/bootstrap.min.css&quot;/&gt;\n",
              "    &lt;link rel=&quot;stylesheet&quot; href=&quot;https://cdn.jsdelivr.net/npm/@fortawesome/fontawesome-free@6.2.0/css/all.min.css&quot;/&gt;\n",
              "    &lt;link rel=&quot;stylesheet&quot; href=&quot;https://cdnjs.cloudflare.com/ajax/libs/Leaflet.awesome-markers/2.0.2/leaflet.awesome-markers.css&quot;/&gt;\n",
              "    &lt;link rel=&quot;stylesheet&quot; href=&quot;https://cdn.jsdelivr.net/gh/python-visualization/folium/folium/templates/leaflet.awesome.rotate.min.css&quot;/&gt;\n",
              "    \n",
              "            &lt;meta name=&quot;viewport&quot; content=&quot;width=device-width,\n",
              "                initial-scale=1.0, maximum-scale=1.0, user-scalable=no&quot; /&gt;\n",
              "            &lt;style&gt;\n",
              "                #map_cebd9acdc8320aefd370a28b4530ed95 {\n",
              "                    position: relative;\n",
              "                    width: 100.0%;\n",
              "                    height: 100.0%;\n",
              "                    left: 0.0%;\n",
              "                    top: 0.0%;\n",
              "                }\n",
              "                .leaflet-container { font-size: 1rem; }\n",
              "            &lt;/style&gt;\n",
              "        \n",
              "&lt;/head&gt;\n",
              "&lt;body&gt;\n",
              "    \n",
              "    \n",
              "            &lt;div class=&quot;folium-map&quot; id=&quot;map_cebd9acdc8320aefd370a28b4530ed95&quot; &gt;&lt;/div&gt;\n",
              "        \n",
              "&lt;/body&gt;\n",
              "&lt;script&gt;\n",
              "    \n",
              "    \n",
              "            var map_cebd9acdc8320aefd370a28b4530ed95 = L.map(\n",
              "                &quot;map_cebd9acdc8320aefd370a28b4530ed95&quot;,\n",
              "                {\n",
              "                    center: [52.6645, -101.299591],\n",
              "                    crs: L.CRS.EPSG3857,\n",
              "                    zoom: 15,\n",
              "                    zoomControl: true,\n",
              "                    preferCanvas: false,\n",
              "                }\n",
              "            );\n",
              "\n",
              "            \n",
              "\n",
              "        \n",
              "    \n",
              "            var tile_layer_01b5bbaf1b9cd463104ada23cab15954 = L.tileLayer(\n",
              "                &quot;https://{s}.tile.openstreetmap.org/{z}/{x}/{y}.png&quot;,\n",
              "                {&quot;attribution&quot;: &quot;Data by \\u0026copy; \\u003ca target=\\&quot;_blank\\&quot; href=\\&quot;http://openstreetmap.org\\&quot;\\u003eOpenStreetMap\\u003c/a\\u003e, under \\u003ca target=\\&quot;_blank\\&quot; href=\\&quot;http://www.openstreetmap.org/copyright\\&quot;\\u003eODbL\\u003c/a\\u003e.&quot;, &quot;detectRetina&quot;: false, &quot;maxNativeZoom&quot;: 3, &quot;maxZoom&quot;: 3, &quot;minZoom&quot;: 2, &quot;noWrap&quot;: false, &quot;opacity&quot;: 1, &quot;subdomains&quot;: &quot;abc&quot;, &quot;tms&quot;: false}\n",
              "            ).addTo(map_cebd9acdc8320aefd370a28b4530ed95);\n",
              "        \n",
              "    \n",
              "            var marker_0e72d4234c6b839c6fe64e0822104088 = L.marker(\n",
              "                [47.5052849, -111.3007715],\n",
              "                {}\n",
              "            ).addTo(map_cebd9acdc8320aefd370a28b4530ed95);\n",
              "        \n",
              "    \n",
              "        var popup_895bfd76aab66b2e5a21cb391f295968 = L.popup({&quot;maxWidth&quot;: &quot;100%&quot;});\n",
              "\n",
              "        \n",
              "            \n",
              "                var html_0d2cd882c5ea9d00e75db9d887a2b314 = $(`&lt;div id=&quot;html_0d2cd882c5ea9d00e75db9d887a2b314&quot; style=&quot;width: 100.0%; height: 100.0%;&quot;&gt;&lt;b&gt;Great Falls&lt;/b&gt;&lt;br&gt;&lt;i&gt;1379.977&lt;/i&gt;&lt;/div&gt;`)[0];\n",
              "                popup_895bfd76aab66b2e5a21cb391f295968.setContent(html_0d2cd882c5ea9d00e75db9d887a2b314);\n",
              "            \n",
              "        \n",
              "\n",
              "        marker_0e72d4234c6b839c6fe64e0822104088.bindPopup(popup_895bfd76aab66b2e5a21cb391f295968)\n",
              "        ;\n",
              "\n",
              "        \n",
              "    \n",
              "    \n",
              "            marker_0e72d4234c6b839c6fe64e0822104088.bindTooltip(\n",
              "                `&lt;div&gt;\n",
              "                     Great Falls\n",
              "                 &lt;/div&gt;`,\n",
              "                {&quot;sticky&quot;: true}\n",
              "            );\n",
              "        \n",
              "    \n",
              "            var marker_88759b5a64701d64b4fe43d9b87e11bf = L.marker(\n",
              "                [35.7478769, -95.3696909],\n",
              "                {}\n",
              "            ).addTo(map_cebd9acdc8320aefd370a28b4530ed95);\n",
              "        \n",
              "    \n",
              "        var popup_9d5954051b09fb837509450e1d9d7567 = L.popup({&quot;maxWidth&quot;: &quot;100%&quot;});\n",
              "\n",
              "        \n",
              "            \n",
              "                var html_8d9a026ceee272ffc57f24061ff3a4e0 = $(`&lt;div id=&quot;html_8d9a026ceee272ffc57f24061ff3a4e0&quot; style=&quot;width: 100.0%; height: 100.0%;&quot;&gt;&lt;b&gt;Muskogee&lt;/b&gt;&lt;br&gt;&lt;i&gt;374.3792&lt;/i&gt;&lt;/div&gt;`)[0];\n",
              "                popup_9d5954051b09fb837509450e1d9d7567.setContent(html_8d9a026ceee272ffc57f24061ff3a4e0);\n",
              "            \n",
              "        \n",
              "\n",
              "        marker_88759b5a64701d64b4fe43d9b87e11bf.bindPopup(popup_9d5954051b09fb837509450e1d9d7567)\n",
              "        ;\n",
              "\n",
              "        \n",
              "    \n",
              "    \n",
              "            marker_88759b5a64701d64b4fe43d9b87e11bf.bindTooltip(\n",
              "                `&lt;div&gt;\n",
              "                     Muskogee\n",
              "                 &lt;/div&gt;`,\n",
              "                {&quot;sticky&quot;: true}\n",
              "            );\n",
              "        \n",
              "    \n",
              "            var marker_66acf9434ac74248e6d97799ff1bdd48 = L.marker(\n",
              "                [45.0724642, -93.4557877],\n",
              "                {}\n",
              "            ).addTo(map_cebd9acdc8320aefd370a28b4530ed95);\n",
              "        \n",
              "    \n",
              "        var popup_d5c0f32283f6d71e9c0488d4284420cc = L.popup({&quot;maxWidth&quot;: &quot;100%&quot;});\n",
              "\n",
              "        \n",
              "            \n",
              "                var html_7315d56815043a45af224a91624e13af = $(`&lt;div id=&quot;html_7315d56815043a45af224a91624e13af&quot; style=&quot;width: 100.0%; height: 100.0%;&quot;&gt;&lt;b&gt;Maple Grove&lt;/b&gt;&lt;br&gt;&lt;i&gt;331.191&lt;/i&gt;&lt;/div&gt;`)[0];\n",
              "                popup_d5c0f32283f6d71e9c0488d4284420cc.setContent(html_7315d56815043a45af224a91624e13af);\n",
              "            \n",
              "        \n",
              "\n",
              "        marker_66acf9434ac74248e6d97799ff1bdd48.bindPopup(popup_d5c0f32283f6d71e9c0488d4284420cc)\n",
              "        ;\n",
              "\n",
              "        \n",
              "    \n",
              "    \n",
              "            marker_66acf9434ac74248e6d97799ff1bdd48.bindTooltip(\n",
              "                `&lt;div&gt;\n",
              "                     Maple Grove\n",
              "                 &lt;/div&gt;`,\n",
              "                {&quot;sticky&quot;: true}\n",
              "            );\n",
              "        \n",
              "    \n",
              "            var marker_5690f664d3633741d93a04b8c971a7a1 = L.marker(\n",
              "                [33.8365932, -117.9143012],\n",
              "                {}\n",
              "            ).addTo(map_cebd9acdc8320aefd370a28b4530ed95);\n",
              "        \n",
              "    \n",
              "        var popup_97a64dee553186de24a4f83a55e18966 = L.popup({&quot;maxWidth&quot;: &quot;100%&quot;});\n",
              "\n",
              "        \n",
              "            \n",
              "                var html_1f175ada4364cde747125cfbfe9d1cdf = $(`&lt;div id=&quot;html_1f175ada4364cde747125cfbfe9d1cdf&quot; style=&quot;width: 100.0%; height: 100.0%;&quot;&gt;&lt;b&gt;Anaheim&lt;/b&gt;&lt;br&gt;&lt;i&gt;310.9872&lt;/i&gt;&lt;/div&gt;`)[0];\n",
              "                popup_97a64dee553186de24a4f83a55e18966.setContent(html_1f175ada4364cde747125cfbfe9d1cdf);\n",
              "            \n",
              "        \n",
              "\n",
              "        marker_5690f664d3633741d93a04b8c971a7a1.bindPopup(popup_97a64dee553186de24a4f83a55e18966)\n",
              "        ;\n",
              "\n",
              "        \n",
              "    \n",
              "    \n",
              "            marker_5690f664d3633741d93a04b8c971a7a1.bindTooltip(\n",
              "                `&lt;div&gt;\n",
              "                     Anaheim\n",
              "                 &lt;/div&gt;`,\n",
              "                {&quot;sticky&quot;: true}\n",
              "            );\n",
              "        \n",
              "    \n",
              "            var marker_4e0807210caa9b3cf5865e1038d5c2ef = L.marker(\n",
              "                [32.2987573, -90.1848103],\n",
              "                {}\n",
              "            ).addTo(map_cebd9acdc8320aefd370a28b4530ed95);\n",
              "        \n",
              "    \n",
              "        var popup_6cb63aa8ca24332db71b1e447f227fcf = L.popup({&quot;maxWidth&quot;: &quot;100%&quot;});\n",
              "\n",
              "        \n",
              "            \n",
              "                var html_9cf6e5a17a3d357ad70b40882abb02ff = $(`&lt;div id=&quot;html_9cf6e5a17a3d357ad70b40882abb02ff&quot; style=&quot;width: 100.0%; height: 100.0%;&quot;&gt;&lt;b&gt;Jackson&lt;/b&gt;&lt;br&gt;&lt;i&gt;225.264&lt;/i&gt;&lt;/div&gt;`)[0];\n",
              "                popup_6cb63aa8ca24332db71b1e447f227fcf.setContent(html_9cf6e5a17a3d357ad70b40882abb02ff);\n",
              "            \n",
              "        \n",
              "\n",
              "        marker_4e0807210caa9b3cf5865e1038d5c2ef.bindPopup(popup_6cb63aa8ca24332db71b1e447f227fcf)\n",
              "        ;\n",
              "\n",
              "        \n",
              "    \n",
              "    \n",
              "            marker_4e0807210caa9b3cf5865e1038d5c2ef.bindTooltip(\n",
              "                `&lt;div&gt;\n",
              "                     Jackson\n",
              "                 &lt;/div&gt;`,\n",
              "                {&quot;sticky&quot;: true}\n",
              "            );\n",
              "        \n",
              "    \n",
              "            var marker_e1cf998511584fb2dc98aab0d75557f1 = L.marker(\n",
              "                [39.0911161, -94.41550679999999],\n",
              "                {}\n",
              "            ).addTo(map_cebd9acdc8320aefd370a28b4530ed95);\n",
              "        \n",
              "    \n",
              "        var popup_1ad3e6de044e93229864472578e8249b = L.popup({&quot;maxWidth&quot;: &quot;100%&quot;});\n",
              "\n",
              "        \n",
              "            \n",
              "                var html_26d7ecde61ff8c3076d5ef8c3761c208 = $(`&lt;div id=&quot;html_26d7ecde61ff8c3076d5ef8c3761c208&quot; style=&quot;width: 100.0%; height: 100.0%;&quot;&gt;&lt;b&gt;Independence&lt;/b&gt;&lt;br&gt;&lt;i&gt;218.2518&lt;/i&gt;&lt;/div&gt;`)[0];\n",
              "                popup_1ad3e6de044e93229864472578e8249b.setContent(html_26d7ecde61ff8c3076d5ef8c3761c208);\n",
              "            \n",
              "        \n",
              "\n",
              "        marker_e1cf998511584fb2dc98aab0d75557f1.bindPopup(popup_1ad3e6de044e93229864472578e8249b)\n",
              "        ;\n",
              "\n",
              "        \n",
              "    \n",
              "    \n",
              "            marker_e1cf998511584fb2dc98aab0d75557f1.bindTooltip(\n",
              "                `&lt;div&gt;\n",
              "                     Independence\n",
              "                 &lt;/div&gt;`,\n",
              "                {&quot;sticky&quot;: true}\n",
              "            );\n",
              "        \n",
              "    \n",
              "            var marker_df1c730b6c7b1f5a572cfdb49d12b5f9 = L.marker(\n",
              "                [41.2306979, -73.064036],\n",
              "                {}\n",
              "            ).addTo(map_cebd9acdc8320aefd370a28b4530ed95);\n",
              "        \n",
              "    \n",
              "        var popup_6376f54ad3634015f19444c6e1323a21 = L.popup({&quot;maxWidth&quot;: &quot;100%&quot;});\n",
              "\n",
              "        \n",
              "            \n",
              "                var html_b1e3899039a2601fe50e269ecf401c0c = $(`&lt;div id=&quot;html_b1e3899039a2601fe50e269ecf401c0c&quot; style=&quot;width: 100.0%; height: 100.0%;&quot;&gt;&lt;b&gt;Milford&lt;/b&gt;&lt;br&gt;&lt;i&gt;185.2578&lt;/i&gt;&lt;/div&gt;`)[0];\n",
              "                popup_6376f54ad3634015f19444c6e1323a21.setContent(html_b1e3899039a2601fe50e269ecf401c0c);\n",
              "            \n",
              "        \n",
              "\n",
              "        marker_df1c730b6c7b1f5a572cfdb49d12b5f9.bindPopup(popup_6376f54ad3634015f19444c6e1323a21)\n",
              "        ;\n",
              "\n",
              "        \n",
              "    \n",
              "    \n",
              "            marker_df1c730b6c7b1f5a572cfdb49d12b5f9.bindTooltip(\n",
              "                `&lt;div&gt;\n",
              "                     Milford\n",
              "                 &lt;/div&gt;`,\n",
              "                {&quot;sticky&quot;: true}\n",
              "            );\n",
              "        \n",
              "    \n",
              "            var marker_eace31174688219b261e42328276c9c1 = L.marker(\n",
              "                [32.4609764, -84.9877094],\n",
              "                {}\n",
              "            ).addTo(map_cebd9acdc8320aefd370a28b4530ed95);\n",
              "        \n",
              "    \n",
              "        var popup_443b29e7be1b2d4fc9419eea417b98be = L.popup({&quot;maxWidth&quot;: &quot;100%&quot;});\n",
              "\n",
              "        \n",
              "            \n",
              "                var html_54fdb84a98576cbb7b9833c44cde2ea5 = $(`&lt;div id=&quot;html_54fdb84a98576cbb7b9833c44cde2ea5&quot; style=&quot;width: 100.0%; height: 100.0%;&quot;&gt;&lt;b&gt;Columbus&lt;/b&gt;&lt;br&gt;&lt;i&gt;168.4384&lt;/i&gt;&lt;/div&gt;`)[0];\n",
              "                popup_443b29e7be1b2d4fc9419eea417b98be.setContent(html_54fdb84a98576cbb7b9833c44cde2ea5);\n",
              "            \n",
              "        \n",
              "\n",
              "        marker_eace31174688219b261e42328276c9c1.bindPopup(popup_443b29e7be1b2d4fc9419eea417b98be)\n",
              "        ;\n",
              "\n",
              "        \n",
              "    \n",
              "    \n",
              "            marker_eace31174688219b261e42328276c9c1.bindTooltip(\n",
              "                `&lt;div&gt;\n",
              "                     Columbus\n",
              "                 &lt;/div&gt;`,\n",
              "                {&quot;sticky&quot;: true}\n",
              "            );\n",
              "        \n",
              "    \n",
              "            var marker_ccc6555d391af52caa4f6094c099d087 = L.marker(\n",
              "                [39.8386516, -86.0252612],\n",
              "                {}\n",
              "            ).addTo(map_cebd9acdc8320aefd370a28b4530ed95);\n",
              "        \n",
              "    \n",
              "        var popup_12cd3a86ecc6aab0055bf417b9fd46ef = L.popup({&quot;maxWidth&quot;: &quot;100%&quot;});\n",
              "\n",
              "        \n",
              "            \n",
              "                var html_6ae4b25647a909db98b7e98467dbe5ac = $(`&lt;div id=&quot;html_6ae4b25647a909db98b7e98467dbe5ac&quot; style=&quot;width: 100.0%; height: 100.0%;&quot;&gt;&lt;b&gt;Lawrence&lt;/b&gt;&lt;br&gt;&lt;i&gt;166.0698&lt;/i&gt;&lt;/div&gt;`)[0];\n",
              "                popup_12cd3a86ecc6aab0055bf417b9fd46ef.setContent(html_6ae4b25647a909db98b7e98467dbe5ac);\n",
              "            \n",
              "        \n",
              "\n",
              "        marker_ccc6555d391af52caa4f6094c099d087.bindPopup(popup_12cd3a86ecc6aab0055bf417b9fd46ef)\n",
              "        ;\n",
              "\n",
              "        \n",
              "    \n",
              "    \n",
              "            marker_ccc6555d391af52caa4f6094c099d087.bindTooltip(\n",
              "                `&lt;div&gt;\n",
              "                     Lawrence\n",
              "                 &lt;/div&gt;`,\n",
              "                {&quot;sticky&quot;: true}\n",
              "            );\n",
              "        \n",
              "    \n",
              "            var marker_684dc5964e3dbebb08557122875d73dd = L.marker(\n",
              "                [33.6469437, -117.6861023],\n",
              "                {}\n",
              "            ).addTo(map_cebd9acdc8320aefd370a28b4530ed95);\n",
              "        \n",
              "    \n",
              "        var popup_e2726ee07a459a39fcb36ef56e8ae983 = L.popup({&quot;maxWidth&quot;: &quot;100%&quot;});\n",
              "\n",
              "        \n",
              "            \n",
              "                var html_a167a3caca7783dc212a50b967ce044e = $(`&lt;div id=&quot;html_a167a3caca7783dc212a50b967ce044e&quot; style=&quot;width: 100.0%; height: 100.0%;&quot;&gt;&lt;b&gt;Lake Forest&lt;/b&gt;&lt;br&gt;&lt;i&gt;152.0232&lt;/i&gt;&lt;/div&gt;`)[0];\n",
              "                popup_e2726ee07a459a39fcb36ef56e8ae983.setContent(html_a167a3caca7783dc212a50b967ce044e);\n",
              "            \n",
              "        \n",
              "\n",
              "        marker_684dc5964e3dbebb08557122875d73dd.bindPopup(popup_e2726ee07a459a39fcb36ef56e8ae983)\n",
              "        ;\n",
              "\n",
              "        \n",
              "    \n",
              "    \n",
              "            marker_684dc5964e3dbebb08557122875d73dd.bindTooltip(\n",
              "                `&lt;div&gt;\n",
              "                     Lake Forest\n",
              "                 &lt;/div&gt;`,\n",
              "                {&quot;sticky&quot;: true}\n",
              "            );\n",
              "        \n",
              "&lt;/script&gt;\n",
              "&lt;/html&gt;\" style=\"position:absolute;width:100%;height:100%;left:0;top:0;border:none !important;\" allowfullscreen webkitallowfullscreen mozallowfullscreen></iframe></div></div>"
            ],
            "text/plain": [
              "<folium.folium.Map at 0x7fef43d5d5a0>"
            ]
          },
          "execution_count": 44,
          "metadata": {},
          "output_type": "execute_result"
        }
      ],
      "source": [
        "us = [52.6645,-101.299591]\n",
        "mapa = folium.Map(location=us, zoom_start=15, max_zoom=3, min_zoom=2)\n",
        "\n",
        "# El método iterrows genera un iterador para las observaciones de un DataFrame:\n",
        "for index, row in df_year_2017.iterrows():\n",
        "    lat_lon = row.lat, row.lng\n",
        "    tooltip = row.City\n",
        "    contents = f\"<b>{tooltip}</b><br><i>{row.Profit}</i>\"\n",
        "    folium.Marker(lat_lon, popup=contents, tooltip=tooltip).add_to(mapa)\n",
        "\n",
        "mapa"
      ]
    }
  ],
  "metadata": {
    "colab": {
      "provenance": []
    },
    "kernelspec": {
      "display_name": "Python 3",
      "name": "python3"
    },
    "language_info": {
      "name": "python"
    }
  },
  "nbformat": 4,
  "nbformat_minor": 0
}
